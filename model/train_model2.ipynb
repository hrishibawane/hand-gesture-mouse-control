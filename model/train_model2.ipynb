{
 "cells": [
  {
   "cell_type": "code",
   "execution_count": 10,
   "metadata": {},
   "outputs": [],
   "source": [
    "import pandas as pd\n",
    "import numpy as np\n",
    "from PIL import Image\n",
    "from skimage import transform\n",
    "import cv2\n",
    "import matplotlib.pyplot as plt\n",
    "import keras\n",
    "from keras.preprocessing.image import ImageDataGenerator\n",
    "from keras.models import Sequential\n",
    "from keras.layers import Conv2D, MaxPooling2D, BatchNormalization\n",
    "from keras.layers import Dense, Dropout, Flatten"
   ]
  },
  {
   "cell_type": "code",
   "execution_count": 11,
   "metadata": {},
   "outputs": [
    {
     "data": {
      "text/plain": [
       "['0', '1', '2', 'unknown']"
      ]
     },
     "execution_count": 11,
     "metadata": {},
     "output_type": "execute_result"
    }
   ],
   "source": [
    "images_path = 'sign-language-for-numbers/Sign Language for Numbers'\n",
    "classes = \"0 1 2 unknown\".split()\n",
    "classes"
   ]
  },
  {
   "cell_type": "code",
   "execution_count": 12,
   "metadata": {},
   "outputs": [
    {
     "name": "stdout",
     "output_type": "stream",
     "text": [
      "(100, 72)\n"
     ]
    },
    {
     "data": {
      "image/png": "[encoded data removed]",
      "text/plain": [
       "<PIL.JpegImagePlugin.JpegImageFile image mode=L size=100x72 at 0x7FCDB0267EF0>"
      ]
     },
     "execution_count": 12,
     "metadata": {},
     "output_type": "execute_result"
    }
   ],
   "source": [
    "image = Image.open(images_path + '/0/zero_1.jpg')\n",
    "print(image.size)\n",
    "image"
   ]
  },
  {
   "cell_type": "code",
   "execution_count": 13,
   "metadata": {},
   "outputs": [
    {
     "data": {
      "text/plain": [
       "(72, 100, 3)"
      ]
     },
     "execution_count": 13,
     "metadata": {},
     "output_type": "execute_result"
    }
   ],
   "source": [
    "img = cv2.imread(images_path + '/0/zero_1.jpg')\n",
    "img.shape"
   ]
  },
  {
   "cell_type": "code",
   "execution_count": 14,
   "metadata": {},
   "outputs": [
    {
     "name": "stdout",
     "output_type": "stream",
     "text": [
      "Found 6000 images belonging to 4 classes.\n"
     ]
    }
   ],
   "source": [
    "data_generator = ImageDataGenerator(width_shift_range=0.2, height_shift_range=0.2,\n",
    "                                   shear_range=0.2, horizontal_flip=True)\n",
    "\n",
    "data_batches = data_generator.flow_from_directory(images_path, class_mode='categorical',\n",
    "                                                 target_size=(100, 72), batch_size=64)"
   ]
  },
  {
   "cell_type": "code",
   "execution_count": 15,
   "metadata": {},
   "outputs": [
    {
     "name": "stdout",
     "output_type": "stream",
     "text": [
      "_________________________________________________________________\n",
      "Layer (type)                 Output Shape              Param #   \n",
      "=================================================================\n",
      "conv2d_5 (Conv2D)            (None, 100, 72, 32)       1568      \n",
      "_________________________________________________________________\n",
      "batch_normalization_7 (Batch (None, 100, 72, 32)       128       \n",
      "_________________________________________________________________\n",
      "conv2d_6 (Conv2D)            (None, 100, 72, 64)       32832     \n",
      "_________________________________________________________________\n",
      "batch_normalization_8 (Batch (None, 100, 72, 64)       256       \n",
      "_________________________________________________________________\n",
      "max_pooling2d_3 (MaxPooling2 (None, 50, 36, 64)        0         \n",
      "_________________________________________________________________\n",
      "dropout_3 (Dropout)          (None, 50, 36, 64)        0         \n",
      "_________________________________________________________________\n",
      "flatten_3 (Flatten)          (None, 115200)            0         \n",
      "_________________________________________________________________\n",
      "dense_5 (Dense)              (None, 64)                7372864   \n",
      "_________________________________________________________________\n",
      "batch_normalization_9 (Batch (None, 64)                256       \n",
      "_________________________________________________________________\n",
      "dense_6 (Dense)              (None, 4)                 260       \n",
      "=================================================================\n",
      "Total params: 7,408,164\n",
      "Trainable params: 7,407,844\n",
      "Non-trainable params: 320\n",
      "_________________________________________________________________\n"
     ]
    }
   ],
   "source": [
    "model = Sequential()\n",
    "\n",
    "model.add(Conv2D(32, kernel_size=4, padding='same', kernel_initializer='he_uniform', input_shape=(100,72,3)))\n",
    "model.add(BatchNormalization())\n",
    "\n",
    "model.add(Conv2D(64, kernel_size=4, padding='same', kernel_initializer='he_uniform'))\n",
    "model.add(BatchNormalization())\n",
    "model.add(MaxPooling2D(pool_size=(2,2)))\n",
    "model.add(Dropout(rate=0.2))\n",
    "\n",
    "model.add(Flatten())\n",
    "model.add(Dense(64, activation='relu', kernel_initializer='he_uniform'))\n",
    "model.add(BatchNormalization())\n",
    "\n",
    "model.add(Dense(len(classes), activation='softmax'))\n",
    "\n",
    "model.compile(optimizer='adam', loss='categorical_crossentropy', metrics=['accuracy'])\n",
    "\n",
    "model.summary()"
   ]
  },
  {
   "cell_type": "code",
   "execution_count": 16,
   "metadata": {
    "scrolled": true
   },
   "outputs": [
    {
     "name": "stdout",
     "output_type": "stream",
     "text": [
      "Epoch 1/50\n",
      "93/93 [==============================] - 207s 2s/step - loss: 1.2731 - acc: 0.4615\n",
      "Epoch 2/50\n",
      "93/93 [==============================] - 211s 2s/step - loss: 1.0263 - acc: 0.5656\n",
      "Epoch 3/50\n",
      "93/93 [==============================] - 212s 2s/step - loss: 0.9327 - acc: 0.6186\n",
      "Epoch 4/50\n",
      "93/93 [==============================] - 213s 2s/step - loss: 0.8582 - acc: 0.6587\n",
      "Epoch 5/50\n",
      "93/93 [==============================] - 214s 2s/step - loss: 0.8101 - acc: 0.6794\n",
      "Epoch 6/50\n",
      "93/93 [==============================] - 212s 2s/step - loss: 0.8012 - acc: 0.6784\n",
      "Epoch 7/50\n",
      "93/93 [==============================] - 215s 2s/step - loss: 0.7324 - acc: 0.7212\n",
      "Epoch 8/50\n",
      "93/93 [==============================] - 215s 2s/step - loss: 0.7369 - acc: 0.7147\n",
      "Epoch 9/50\n",
      "93/93 [==============================] - 215s 2s/step - loss: 0.7435 - acc: 0.7109\n",
      "Epoch 10/50\n",
      "93/93 [==============================] - 213s 2s/step - loss: 0.6641 - acc: 0.7412\n",
      "Epoch 11/50\n",
      "93/93 [==============================] - 214s 2s/step - loss: 0.6184 - acc: 0.7604\n",
      "Epoch 12/50\n",
      "93/93 [==============================] - 215s 2s/step - loss: 0.6015 - acc: 0.7668\n",
      "Epoch 13/50\n",
      "93/93 [==============================] - 215s 2s/step - loss: 0.6517 - acc: 0.7442\n",
      "Epoch 14/50\n",
      "93/93 [==============================] - 215s 2s/step - loss: 0.6006 - acc: 0.7702\n",
      "Epoch 15/50\n",
      "93/93 [==============================] - 213s 2s/step - loss: 0.6919 - acc: 0.7388\n",
      "Epoch 16/50\n",
      "93/93 [==============================] - 214s 2s/step - loss: 0.6005 - acc: 0.7708\n",
      "Epoch 17/50\n",
      "93/93 [==============================] - 217s 2s/step - loss: 0.5413 - acc: 0.7942\n",
      "Epoch 18/50\n",
      "93/93 [==============================] - 214s 2s/step - loss: 0.5321 - acc: 0.8045\n",
      "Epoch 19/50\n",
      "93/93 [==============================] - 213s 2s/step - loss: 0.5334 - acc: 0.8039\n",
      "Epoch 20/50\n",
      "93/93 [==============================] - 214s 2s/step - loss: 0.5354 - acc: 0.7948\n",
      "Epoch 21/50\n",
      "93/93 [==============================] - 214s 2s/step - loss: 0.4874 - acc: 0.8179\n",
      "Epoch 22/50\n",
      "93/93 [==============================] - 213s 2s/step - loss: 0.5039 - acc: 0.8099\n",
      "Epoch 23/50\n",
      "93/93 [==============================] - 214s 2s/step - loss: 0.4837 - acc: 0.8207\n",
      "Epoch 24/50\n",
      "93/93 [==============================] - 213s 2s/step - loss: 0.5247 - acc: 0.7944\n",
      "Epoch 25/50\n",
      "93/93 [==============================] - 213s 2s/step - loss: 0.4839 - acc: 0.8169\n",
      "Epoch 26/50\n",
      "93/93 [==============================] - 215s 2s/step - loss: 0.4653 - acc: 0.8260\n",
      "Epoch 27/50\n",
      "93/93 [==============================] - 213s 2s/step - loss: 0.4576 - acc: 0.8335\n",
      "Epoch 28/50\n",
      "93/93 [==============================] - 216s 2s/step - loss: 0.4493 - acc: 0.8361\n",
      "Epoch 29/50\n",
      "93/93 [==============================] - 215s 2s/step - loss: 0.4255 - acc: 0.8433\n",
      "Epoch 30/50\n",
      "93/93 [==============================] - 216s 2s/step - loss: 0.4363 - acc: 0.8401\n",
      "Epoch 31/50\n",
      "93/93 [==============================] - 213s 2s/step - loss: 0.4224 - acc: 0.8446\n",
      "Epoch 32/50\n",
      "93/93 [==============================] - 213s 2s/step - loss: 0.4226 - acc: 0.8485\n",
      "Epoch 33/50\n",
      "93/93 [==============================] - 216s 2s/step - loss: 0.4204 - acc: 0.8430\n",
      "Epoch 34/50\n",
      "93/93 [==============================] - 215s 2s/step - loss: 0.4203 - acc: 0.8445\n",
      "Epoch 35/50\n",
      "93/93 [==============================] - 216s 2s/step - loss: 0.4291 - acc: 0.8413\n",
      "Epoch 36/50\n",
      "93/93 [==============================] - 215s 2s/step - loss: 0.4251 - acc: 0.8467\n",
      "Epoch 37/50\n",
      "93/93 [==============================] - 214s 2s/step - loss: 0.3854 - acc: 0.8594\n",
      "Epoch 38/50\n",
      "93/93 [==============================] - 213s 2s/step - loss: 0.3919 - acc: 0.8568\n",
      "Epoch 39/50\n",
      "93/93 [==============================] - 214s 2s/step - loss: 0.3894 - acc: 0.8594\n",
      "Epoch 40/50\n",
      "93/93 [==============================] - 213s 2s/step - loss: 0.3984 - acc: 0.8586\n",
      "Epoch 41/50\n",
      "93/93 [==============================] - 215s 2s/step - loss: 0.3765 - acc: 0.8588\n",
      "Epoch 42/50\n",
      "93/93 [==============================] - 215s 2s/step - loss: 0.3784 - acc: 0.8664\n",
      "Epoch 43/50\n",
      "93/93 [==============================] - 215s 2s/step - loss: 0.3925 - acc: 0.8524\n",
      "Epoch 44/50\n",
      "93/93 [==============================] - 216s 2s/step - loss: 0.3761 - acc: 0.8656\n",
      "Epoch 45/50\n",
      "93/93 [==============================] - 216s 2s/step - loss: 0.3544 - acc: 0.8699\n",
      "Epoch 46/50\n",
      "93/93 [==============================] - 215s 2s/step - loss: 0.3850 - acc: 0.8655\n",
      "Epoch 47/50\n",
      "93/93 [==============================] - 216s 2s/step - loss: 0.4036 - acc: 0.8515\n",
      "Epoch 48/50\n",
      "93/93 [==============================] - 215s 2s/step - loss: 0.3737 - acc: 0.8653\n",
      "Epoch 49/50\n",
      "93/93 [==============================] - 216s 2s/step - loss: 0.3736 - acc: 0.8676\n",
      "Epoch 50/50\n",
      "93/93 [==============================] - 217s 2s/step - loss: 0.3479 - acc: 0.8722\n"
     ]
    }
   ],
   "source": [
    "checkpoint = keras.callbacks.ModelCheckpoint('model2_{epoch:02d}_{acc:.2f}.h5', period=10) \n",
    "\n",
    "history = model.fit_generator(data_batches, steps_per_epoch=(6000//64), epochs=50, callbacks=[checkpoint])\n"
   ]
  },
  {
   "cell_type": "code",
   "execution_count": 18,
   "metadata": {
    "scrolled": true
   },
   "outputs": [
    {
     "data": {
      "text/plain": [
       "dict_keys(['loss', 'acc'])"
      ]
     },
     "execution_count": 18,
     "metadata": {},
     "output_type": "execute_result"
    }
   ],
   "source": [
    "hist = history.history\n",
    "hist.keys()"
   ]
  },
  {
   "cell_type": "code",
   "execution_count": 19,
   "metadata": {},
   "outputs": [
    {
     "data": {
      "image/png": "[encoded data removed]",
      "text/plain": [
       "<Figure size 720x432 with 1 Axes>"
      ]
     },
     "metadata": {
      "needs_background": "light"
     },
     "output_type": "display_data"
    }
   ],
   "source": [
    "plt.figure(figsize=(10,6))\n",
    "plt.plot(hist['loss'])\n",
    "plt.title('Loss Plot')\n",
    "plt.xlabel('epochs')\n",
    "plt.ylabel('loss')\n",
    "plt.savefig('loss_plot_2.jpg')\n",
    "plt.show()"
   ]
  },
  {
   "cell_type": "code",
   "execution_count": 20,
   "metadata": {},
   "outputs": [
    {
     "data": {
      "image/png": "[encoded data removed]",
      "text/plain": [
       "<Figure size 720x432 with 1 Axes>"
      ]
     },
     "metadata": {
      "needs_background": "light"
     },
     "output_type": "display_data"
    }
   ],
   "source": [
    "plt.figure(figsize=(10,6))\n",
    "plt.plot(hist['acc'])\n",
    "plt.title('Accuracy Plot')\n",
    "plt.xlabel('epochs')\n",
    "plt.ylabel('accuracy')\n",
    "plt.savefig('accuracy_plot.jpg')\n",
    "plt.show()"
   ]
  }
 ],
 "metadata": {
  "kernelspec": {
   "display_name": "Python 3",
   "language": "python",
   "name": "python3"
  },
  "language_info": {
   "codemirror_mode": {
    "name": "ipython",
    "version": 3
   },
   "file_extension": ".py",
   "mimetype": "text/x-python",
   "name": "python",
   "nbconvert_exporter": "python",
   "pygments_lexer": "ipython3",
   "version": "3.7.3"
  }
 },
 "nbformat": 4,
 "nbformat_minor": 2
}
