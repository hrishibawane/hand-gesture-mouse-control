{
 "cells": [
  {
   "cell_type": "code",
   "execution_count": 2,
   "metadata": {},
   "outputs": [],
   "source": [
    "import numpy as np\n",
    "from PIL import Image\n",
    "import cv2\n",
    "import matplotlib.pyplot as plt\n",
    "from skimage import transform\n",
    "from keras.models import load_model"
   ]
  },
  {
   "cell_type": "code",
   "execution_count": 22,
   "metadata": {},
   "outputs": [],
   "source": [
    "one1 = 'one1_.jpeg'\n",
    "one2 = 'one2_.jpeg'\n",
    "two = 'two_.jpeg'\n",
    "\n",
    "# one1 = Image.open(one1).convert('LA')\n",
    "# one2 = Image.open(one2).convert('LA')\n",
    "# two = Image.open(two).convert('LA')\n",
    "# one1.size, one2.size, two.size"
   ]
  },
  {
   "cell_type": "code",
   "execution_count": 21,
   "metadata": {},
   "outputs": [],
   "source": [
    "def load_img(fn):\n",
    "#     np_img = Image.open(fn)\n",
    "    np_img = cv2.imread(fn)\n",
    "    np_img = np.array(np_img).astype('float32')\n",
    "    np_img = transform.resize(np_img, (100, 72, 3))\n",
    "    np_img = np.expand_dims(np_img, axis=0)\n",
    "    return np_img"
   ]
  },
  {
   "cell_type": "code",
   "execution_count": 23,
   "metadata": {},
   "outputs": [
    {
     "data": {
      "text/plain": [
       "((1, 100, 72, 3), (1, 100, 72, 3), (1, 100, 72, 3))"
      ]
     },
     "execution_count": 23,
     "metadata": {},
     "output_type": "execute_result"
    }
   ],
   "source": [
    "one1 = load_img(one1)\n",
    "one2 = load_img(one2)\n",
    "two = load_img(two)\n",
    "one1.shape, one2.shape, two.shape"
   ]
  },
  {
   "cell_type": "code",
   "execution_count": 20,
   "metadata": {},
   "outputs": [
    {
     "data": {
      "text/plain": [
       "True"
      ]
     },
     "execution_count": 20,
     "metadata": {},
     "output_type": "execute_result"
    }
   ],
   "source": [
    "cv2.imwrite('one1.jpg', one1)\n",
    "cv2.imwrite('one1.jpg', one2)\n",
    "cv2.imwrite('one1.jpg', two)"
   ]
  },
  {
   "cell_type": "code",
   "execution_count": 25,
   "metadata": {
    "scrolled": false
   },
   "outputs": [
    {
     "name": "stdout",
     "output_type": "stream",
     "text": [
      "_________________________________________________________________\n",
      "Layer (type)                 Output Shape              Param #   \n",
      "=================================================================\n",
      "conv2d_7 (Conv2D)            (None, 100, 72, 32)       1568      \n",
      "_________________________________________________________________\n",
      "batch_normalization_9 (Batch (None, 100, 72, 32)       128       \n",
      "_________________________________________________________________\n",
      "conv2d_8 (Conv2D)            (None, 100, 72, 64)       32832     \n",
      "_________________________________________________________________\n",
      "batch_normalization_10 (Batc (None, 100, 72, 64)       256       \n",
      "_________________________________________________________________\n",
      "max_pooling2d_5 (MaxPooling2 (None, 50, 36, 64)        0         \n",
      "_________________________________________________________________\n",
      "dropout_5 (Dropout)          (None, 50, 36, 64)        0         \n",
      "_________________________________________________________________\n",
      "flatten_3 (Flatten)          (None, 115200)            0         \n",
      "_________________________________________________________________\n",
      "dense_5 (Dense)              (None, 64)                7372864   \n",
      "_________________________________________________________________\n",
      "batch_normalization_11 (Batc (None, 64)                256       \n",
      "_________________________________________________________________\n",
      "dense_6 (Dense)              (None, 11)                715       \n",
      "=================================================================\n",
      "Total params: 7,408,619\n",
      "Trainable params: 7,408,299\n",
      "Non-trainable params: 320\n",
      "_________________________________________________________________\n"
     ]
    }
   ],
   "source": [
    "model = load_model('model_50_0.86.h5')\n",
    "model.summary()"
   ]
  },
  {
   "cell_type": "code",
   "execution_count": 5,
   "metadata": {},
   "outputs": [],
   "source": []
  },
  {
   "cell_type": "code",
   "execution_count": 26,
   "metadata": {},
   "outputs": [
    {
     "data": {
      "text/plain": [
       "(1, 100, 72, 3)"
      ]
     },
     "execution_count": 26,
     "metadata": {},
     "output_type": "execute_result"
    }
   ],
   "source": [
    "one1 = load_img('ok.jpg')\n",
    "one1.shape"
   ]
  },
  {
   "cell_type": "code",
   "execution_count": 84,
   "metadata": {},
   "outputs": [
    {
     "data": {
      "text/plain": [
       "(1, 100, 72, 3)"
      ]
     },
     "execution_count": 84,
     "metadata": {},
     "output_type": "execute_result"
    }
   ],
   "source": [
    "two = load_img('two.jpeg')\n",
    "two.shape"
   ]
  },
  {
   "cell_type": "code",
   "execution_count": 27,
   "metadata": {
    "scrolled": false
   },
   "outputs": [
    {
     "data": {
      "text/plain": [
       "array([[3.75014904e-04, 5.21358490e-01, 1.46453634e-01, 2.06035748e-01,\n",
       "        1.40806718e-03, 1.00056775e-01, 4.26036865e-03, 8.04924686e-03,\n",
       "        5.34732186e-04, 3.55175616e-05, 1.14324065e-02]], dtype=float32)"
      ]
     },
     "execution_count": 27,
     "metadata": {},
     "output_type": "execute_result"
    }
   ],
   "source": [
    "pred = model.predict(one1)\n",
    "pred"
   ]
  },
  {
   "cell_type": "code",
   "execution_count": 28,
   "metadata": {},
   "outputs": [
    {
     "data": {
      "text/plain": [
       "1"
      ]
     },
     "execution_count": 28,
     "metadata": {},
     "output_type": "execute_result"
    }
   ],
   "source": [
    "pred = np.argmax(pred)\n",
    "pred"
   ]
  },
  {
   "cell_type": "code",
   "execution_count": 29,
   "metadata": {},
   "outputs": [
    {
     "data": {
      "text/plain": [
       "array([[9.54034203e-06, 1.44602694e-02, 2.81459481e-01, 6.97936833e-01,\n",
       "        6.12550792e-08, 1.08505645e-07, 8.17084292e-05, 6.01687795e-03,\n",
       "        1.06306902e-06, 2.73306305e-05, 6.77335947e-06]], dtype=float32)"
      ]
     },
     "execution_count": 29,
     "metadata": {},
     "output_type": "execute_result"
    }
   ],
   "source": [
    "pred = model.predict(two)\n",
    "pred"
   ]
  },
  {
   "cell_type": "code",
   "execution_count": 30,
   "metadata": {},
   "outputs": [
    {
     "data": {
      "text/plain": [
       "3"
      ]
     },
     "execution_count": 30,
     "metadata": {},
     "output_type": "execute_result"
    }
   ],
   "source": [
    "pred = np.argmax(pred)\n",
    "pred"
   ]
  }
 ],
 "metadata": {
  "kernelspec": {
   "display_name": "Python 3",
   "language": "python",
   "name": "python3"
  },
  "language_info": {
   "codemirror_mode": {
    "name": "ipython",
    "version": 3
   },
   "file_extension": ".py",
   "mimetype": "text/x-python",
   "name": "python",
   "nbconvert_exporter": "python",
   "pygments_lexer": "ipython3",
   "version": "3.7.3"
  }
 },
 "nbformat": 4,
 "nbformat_minor": 2
}
