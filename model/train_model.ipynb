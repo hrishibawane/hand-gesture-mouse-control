{
 "cells": [
  {
   "cell_type": "code",
   "execution_count": 19,
   "metadata": {},
   "outputs": [],
   "source": [
    "import pandas as pd\n",
    "import numpy as np\n",
    "from PIL import Image\n",
    "from skimage import transform\n",
    "import cv2\n",
    "import matplotlib.pyplot as plt\n",
    "import keras\n",
    "from keras.preprocessing.image import ImageDataGenerator\n",
    "from keras.models import Sequential\n",
    "from keras.layers import Conv2D, MaxPooling2D, BatchNormalization\n",
    "from keras.layers import Dense, Dropout, Flatten"
   ]
  },
  {
   "cell_type": "code",
   "execution_count": 11,
   "metadata": {},
   "outputs": [
    {
     "data": {
      "text/plain": [
       "['0', '1', '2', '3', '4', '5', '6', '7', '8', '9', 'unknown']"
      ]
     },
     "execution_count": 11,
     "metadata": {},
     "output_type": "execute_result"
    }
   ],
   "source": [
    "images_path = 'sign-language-for-numbers/Sign Language for Numbers'\n",
    "classes = \"0 1 2 3 4 5 6 7 8 9 unknown\".split()\n",
    "classes"
   ]
  },
  {
   "cell_type": "code",
   "execution_count": 12,
   "metadata": {},
   "outputs": [
    {
     "name": "stdout",
     "output_type": "stream",
     "text": [
      "(100, 72)\n"
     ]
    },
    {
     "data": {
      "image/png": "[encoded data removed]",
      "text/plain": [
       "<PIL.JpegImagePlugin.JpegImageFile image mode=L size=100x72 at 0x7F6FC01DE4A8>"
      ]
     },
     "execution_count": 12,
     "metadata": {},
     "output_type": "execute_result"
    }
   ],
   "source": [
    "image = Image.open(images_path + '/0/zero_1.jpg')\n",
    "print(image.size)\n",
    "image"
   ]
  },
  {
   "cell_type": "code",
   "execution_count": 13,
   "metadata": {},
   "outputs": [
    {
     "data": {
      "text/plain": [
       "(72, 100, 3)"
      ]
     },
     "execution_count": 13,
     "metadata": {},
     "output_type": "execute_result"
    }
   ],
   "source": [
    "img = cv2.imread(images_path + '/0/zero_1.jpg')\n",
    "img.shape"
   ]
  },
  {
   "cell_type": "code",
   "execution_count": 14,
   "metadata": {
    "scrolled": false
   },
   "outputs": [
    {
     "name": "stdout",
     "output_type": "stream",
     "text": [
      "Found 16500 images belonging to 11 classes.\n"
     ]
    }
   ],
   "source": [
    "data_generator = ImageDataGenerator(width_shift_range=0.1, height_shift_range=0.1,\n",
    "                                   shear_range=0.1, horizontal_flip=True)\n",
    "\n",
    "data_batches = data_generator.flow_from_directory(images_path, class_mode='categorical',\n",
    "                                                 target_size=(100, 72), batch_size=64)"
   ]
  },
  {
   "cell_type": "code",
   "execution_count": 15,
   "metadata": {},
   "outputs": [
    {
     "name": "stdout",
     "output_type": "stream",
     "text": [
      "_________________________________________________________________\n",
      "Layer (type)                 Output Shape              Param #   \n",
      "=================================================================\n",
      "conv2d_7 (Conv2D)            (None, 100, 72, 32)       1568      \n",
      "_________________________________________________________________\n",
      "batch_normalization_9 (Batch (None, 100, 72, 32)       128       \n",
      "_________________________________________________________________\n",
      "conv2d_8 (Conv2D)            (None, 100, 72, 64)       32832     \n",
      "_________________________________________________________________\n",
      "batch_normalization_10 (Batc (None, 100, 72, 64)       256       \n",
      "_________________________________________________________________\n",
      "max_pooling2d_5 (MaxPooling2 (None, 50, 36, 64)        0         \n",
      "_________________________________________________________________\n",
      "dropout_5 (Dropout)          (None, 50, 36, 64)        0         \n",
      "_________________________________________________________________\n",
      "flatten_3 (Flatten)          (None, 115200)            0         \n",
      "_________________________________________________________________\n",
      "dense_5 (Dense)              (None, 64)                7372864   \n",
      "_________________________________________________________________\n",
      "batch_normalization_11 (Batc (None, 64)                256       \n",
      "_________________________________________________________________\n",
      "dense_6 (Dense)              (None, 11)                715       \n",
      "=================================================================\n",
      "Total params: 7,408,619\n",
      "Trainable params: 7,408,299\n",
      "Non-trainable params: 320\n",
      "_________________________________________________________________\n"
     ]
    }
   ],
   "source": [
    "model = Sequential()\n",
    "\n",
    "model.add(Conv2D(32, kernel_size=4, padding='same', kernel_initializer='he_uniform', input_shape=(100,72,3)))\n",
    "model.add(BatchNormalization())\n",
    "\n",
    "model.add(Conv2D(64, kernel_size=4, padding='same', kernel_initializer='he_uniform'))\n",
    "model.add(BatchNormalization())\n",
    "model.add(MaxPooling2D(pool_size=(2,2)))\n",
    "model.add(Dropout(rate=0.2))\n",
    "\n",
    "model.add(Flatten())\n",
    "model.add(Dense(64, activation='relu', kernel_initializer='he_uniform'))\n",
    "model.add(BatchNormalization())\n",
    "\n",
    "model.add(Dense(len(classes), activation='softmax'))\n",
    "\n",
    "model.compile(optimizer='adam', loss='categorical_crossentropy', metrics=['accuracy'])\n",
    "\n",
    "model.summary()"
   ]
  },
  {
   "cell_type": "code",
   "execution_count": 16,
   "metadata": {
    "scrolled": true
   },
   "outputs": [
    {
     "name": "stdout",
     "output_type": "stream",
     "text": [
      "Epoch 1/50\n",
      "257/257 [==============================] - 619s 2s/step - loss: 2.0320 - acc: 0.3329\n",
      "Epoch 2/50\n",
      "257/257 [==============================] - 597s 2s/step - loss: 1.6126 - acc: 0.4767\n",
      "Epoch 3/50\n",
      "257/257 [==============================] - 593s 2s/step - loss: 1.3403 - acc: 0.5652\n",
      "Epoch 4/50\n",
      "257/257 [==============================] - 599s 2s/step - loss: 1.1880 - acc: 0.6181\n",
      "Epoch 5/50\n",
      "257/257 [==============================] - 597s 2s/step - loss: 1.0783 - acc: 0.6481\n",
      "Epoch 6/50\n",
      "257/257 [==============================] - 598s 2s/step - loss: 1.0641 - acc: 0.6578\n",
      "Epoch 7/50\n",
      "257/257 [==============================] - 595s 2s/step - loss: 0.9595 - acc: 0.6932\n",
      "Epoch 8/50\n",
      "257/257 [==============================] - 625s 2s/step - loss: 0.8851 - acc: 0.7143\n",
      "Epoch 9/50\n",
      "257/257 [==============================] - 595s 2s/step - loss: 0.8438 - acc: 0.7308\n",
      "Epoch 10/50\n",
      "257/257 [==============================] - 592s 2s/step - loss: 0.8986 - acc: 0.7054\n",
      "Epoch 11/50\n",
      "257/257 [==============================] - 593s 2s/step - loss: 0.8418 - acc: 0.7251\n",
      "Epoch 12/50\n",
      "257/257 [==============================] - 596s 2s/step - loss: 0.9830 - acc: 0.6835\n",
      "Epoch 13/50\n",
      "257/257 [==============================] - 592s 2s/step - loss: 0.7983 - acc: 0.7444\n",
      "Epoch 14/50\n",
      "257/257 [==============================] - 592s 2s/step - loss: 0.7668 - acc: 0.7519\n",
      "Epoch 15/50\n",
      "257/257 [==============================] - 596s 2s/step - loss: 0.7301 - acc: 0.7626\n",
      "Epoch 16/50\n",
      "257/257 [==============================] - 594s 2s/step - loss: 0.7314 - acc: 0.7619\n",
      "Epoch 17/50\n",
      "257/257 [==============================] - 596s 2s/step - loss: 0.7008 - acc: 0.7758\n",
      "Epoch 18/50\n",
      "257/257 [==============================] - 594s 2s/step - loss: 0.6766 - acc: 0.7801\n",
      "Epoch 19/50\n",
      "257/257 [==============================] - 592s 2s/step - loss: 0.6619 - acc: 0.7818\n",
      "Epoch 20/50\n",
      "257/257 [==============================] - 588s 2s/step - loss: 0.6532 - acc: 0.7854\n",
      "Epoch 21/50\n",
      "257/257 [==============================] - 589s 2s/step - loss: 0.6369 - acc: 0.7945\n",
      "Epoch 22/50\n",
      "257/257 [==============================] - 588s 2s/step - loss: 0.6197 - acc: 0.7994\n",
      "Epoch 23/50\n",
      "257/257 [==============================] - 588s 2s/step - loss: 0.6018 - acc: 0.8050\n",
      "Epoch 24/50\n",
      "257/257 [==============================] - 590s 2s/step - loss: 0.6028 - acc: 0.8037\n",
      "Epoch 25/50\n",
      "257/257 [==============================] - 599s 2s/step - loss: 0.5917 - acc: 0.8055\n",
      "Epoch 26/50\n",
      "257/257 [==============================] - 595s 2s/step - loss: 0.5737 - acc: 0.8159\n",
      "Epoch 27/50\n",
      "257/257 [==============================] - 614s 2s/step - loss: 0.5836 - acc: 0.8117\n",
      "Epoch 28/50\n",
      "257/257 [==============================] - 598s 2s/step - loss: 0.5704 - acc: 0.8124\n",
      "Epoch 29/50\n",
      "257/257 [==============================] - 599s 2s/step - loss: 0.5519 - acc: 0.8244\n",
      "Epoch 30/50\n",
      "257/257 [==============================] - 595s 2s/step - loss: 0.5477 - acc: 0.8220\n",
      "Epoch 31/50\n",
      "257/257 [==============================] - 589s 2s/step - loss: 0.5440 - acc: 0.8254\n",
      "Epoch 32/50\n",
      "257/257 [==============================] - 586s 2s/step - loss: 0.5299 - acc: 0.8239\n",
      "Epoch 33/50\n",
      "257/257 [==============================] - 585s 2s/step - loss: 0.5393 - acc: 0.8239\n",
      "Epoch 34/50\n",
      "257/257 [==============================] - 588s 2s/step - loss: 0.5090 - acc: 0.8331\n",
      "Epoch 35/50\n",
      "257/257 [==============================] - 587s 2s/step - loss: 0.5130 - acc: 0.8324\n",
      "Epoch 36/50\n",
      "257/257 [==============================] - 587s 2s/step - loss: 0.5030 - acc: 0.8359\n",
      "Epoch 37/50\n",
      "257/257 [==============================] - 589s 2s/step - loss: 0.4897 - acc: 0.8408\n",
      "Epoch 38/50\n",
      "257/257 [==============================] - 589s 2s/step - loss: 0.5019 - acc: 0.8380\n",
      "Epoch 39/50\n",
      "257/257 [==============================] - 589s 2s/step - loss: 0.4891 - acc: 0.8384\n",
      "Epoch 40/50\n",
      "257/257 [==============================] - 591s 2s/step - loss: 0.5032 - acc: 0.8386\n",
      "Epoch 41/50\n",
      "257/257 [==============================] - 589s 2s/step - loss: 0.4688 - acc: 0.8469\n",
      "Epoch 42/50\n",
      "257/257 [==============================] - 590s 2s/step - loss: 0.4834 - acc: 0.8442\n",
      "Epoch 43/50\n",
      "257/257 [==============================] - 590s 2s/step - loss: 0.4576 - acc: 0.8534\n",
      "Epoch 44/50\n",
      "257/257 [==============================] - 592s 2s/step - loss: 0.4691 - acc: 0.8447\n",
      "Epoch 45/50\n",
      "257/257 [==============================] - 584s 2s/step - loss: 0.4685 - acc: 0.8477\n",
      "Epoch 46/50\n",
      "257/257 [==============================] - 582s 2s/step - loss: 0.4412 - acc: 0.8536\n",
      "Epoch 47/50\n",
      "257/257 [==============================] - 583s 2s/step - loss: 0.4453 - acc: 0.8573\n",
      "Epoch 48/50\n",
      "257/257 [==============================] - 587s 2s/step - loss: 0.4347 - acc: 0.8589\n",
      "Epoch 49/50\n",
      "257/257 [==============================] - 593s 2s/step - loss: 0.4435 - acc: 0.8544\n",
      "Epoch 50/50\n",
      "257/257 [==============================] - 589s 2s/step - loss: 0.4262 - acc: 0.8632\n"
     ]
    }
   ],
   "source": [
    "checkpoint = keras.callbacks.ModelCheckpoint('model_{epoch:02d}_{acc:.2f}.h5', period=10) \n",
    "\n",
    "history = model.fit_generator(data_batches, steps_per_epoch=(16500//64), epochs=50, callbacks=[checkpoint])\n"
   ]
  },
  {
   "cell_type": "code",
   "execution_count": 20,
   "metadata": {},
   "outputs": [
    {
     "data": {
      "text/plain": [
       "dict_keys(['loss', 'acc'])"
      ]
     },
     "execution_count": 20,
     "metadata": {},
     "output_type": "execute_result"
    }
   ],
   "source": [
    "hist = history.history\n",
    "hist.keys()"
   ]
  },
  {
   "cell_type": "code",
   "execution_count": 25,
   "metadata": {},
   "outputs": [
    {
     "data": {
      "image/png": "[encoded data removed]",
      "text/plain": [
       "<Figure size 720x432 with 1 Axes>"
      ]
     },
     "metadata": {
      "needs_background": "light"
     },
     "output_type": "display_data"
    }
   ],
   "source": [
    "plt.figure(figsize=(10,6))\n",
    "plt.plot(hist['loss'])\n",
    "plt.title('Loss Plot')\n",
    "plt.xlabel('epochs')\n",
    "plt.ylabel('loss')\n",
    "plt.savefig('loss_plot.jpg')\n",
    "plt.show()"
   ]
  },
  {
   "cell_type": "code",
   "execution_count": 26,
   "metadata": {},
   "outputs": [
    {
     "data": {
      "image/png": "[encoded data removed]",
      "text/plain": [
       "<Figure size 720x432 with 1 Axes>"
      ]
     },
     "metadata": {
      "needs_background": "light"
     },
     "output_type": "display_data"
    }
   ],
   "source": [
    "plt.figure(figsize=(10,6))\n",
    "plt.plot(hist['acc'])\n",
    "plt.title('Accuracy Plot')\n",
    "plt.xlabel('epochs')\n",
    "plt.ylabel('accuracy')\n",
    "plt.savefig('accuracy_plot.jpg')\n",
    "plt.show()"
   ]
  }
 ],
 "metadata": {
  "kernelspec": {
   "display_name": "Python 3",
   "language": "python",
   "name": "python3"
  },
  "language_info": {
   "codemirror_mode": {
    "name": "ipython",
    "version": 3
   },
   "file_extension": ".py",
   "mimetype": "text/x-python",
   "name": "python",
   "nbconvert_exporter": "python",
   "pygments_lexer": "ipython3",
   "version": "3.7.3"
  }
 },
 "nbformat": 4,
 "nbformat_minor": 2
}
